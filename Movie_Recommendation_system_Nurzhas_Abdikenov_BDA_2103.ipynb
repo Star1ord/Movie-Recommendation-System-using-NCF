{
  "cells": [
    {
      "cell_type": "markdown",
      "metadata": {
        "papermill": {
          "duration": 0.019347,
          "end_time": "2020-10-18T13:10:28.183161",
          "exception": false,
          "start_time": "2020-10-18T13:10:28.163814",
          "status": "completed"
        },
        "tags": [],
        "id": "sbGVElnIafnM"
      },
      "source": [
        "# Deep Learning based Recommender System\n",
        "\n",
        "As far as I've seen, recommendation systems mainly use nearest neighbour, matrix factorization methods as their backbone. Rarely, I saw projectes that uses image recognition(really rare) and NLP. Prime examples are MAANG companies and their services. \n",
        "\n",
        "This project uses Neural Collaborative Filtering (NCF). Scroll further to check what this is.\n",
        "\n",
        "In my idea proposal, I mentioned tutorial that teach how to create recommendation system and I found out Collaborative Filtering.  It uses matrix factorization."
      ]
    },
    {
      "cell_type": "markdown",
      "metadata": {
        "papermill": {
          "duration": 0.018965,
          "end_time": "2020-10-18T13:10:28.221163",
          "exception": false,
          "start_time": "2020-10-18T13:10:28.202198",
          "status": "completed"
        },
        "tags": [],
        "id": "J4VvkGUAafna"
      },
      "source": [
        "# Content:\n",
        "\n",
        "* Creating DL based Movie Recommendation System with PyTorch Lightning\n",
        "* The difference between implicit and explicit feedback for recommender systems\n",
        "* Splitting dataset training our model without data leakages \n",
        "* Special metric for evaluating recommender systems - Hit Ratio metric."
      ]
    },
    {
      "cell_type": "markdown",
      "metadata": {
        "papermill": {
          "duration": 0.018696,
          "end_time": "2020-10-18T13:10:28.259159",
          "exception": false,
          "start_time": "2020-10-18T13:10:28.240463",
          "status": "completed"
        },
        "tags": [],
        "id": "N4u6fdLWafnc"
      },
      "source": [
        "# Building Recommender Systems using Implicit Feedback\n",
        "\n",
        "Before we build our model, it is important to understand the distinction between *implicit* and *explicit* feedback in the context of recommender systems, and why modern recommender systems are built on implicit feedback.\n",
        "\n",
        "[Link to the article](https://medium.com/analytics-vidhya/recommender-systems-explicit-feedback-implicit-feedback-and-hybrid-feedback-ddd1b2cdb3b)\n",
        "\n"
      ]
    },
    {
      "cell_type": "markdown",
      "metadata": {
        "papermill": {
          "duration": 0.019482,
          "end_time": "2020-10-18T13:10:28.297317",
          "exception": false,
          "start_time": "2020-10-18T13:10:28.277835",
          "status": "completed"
        },
        "tags": [],
        "id": "kNru4Vpqafnh"
      },
      "source": [
        "# Data Preprocessing\n",
        "\n",
        "Preprocessing data before creating a model"
      ]
    },
    {
      "cell_type": "code",
      "source": [
        "!pip install pytorch_lightning"
      ],
      "metadata": {
        "id": "U0XCnmGejNLO",
        "colab": {
          "base_uri": "https://localhost:8080/"
        },
        "outputId": "1d8934d6-2277-4be4-c9e9-16b1ab7aa871"
      },
      "execution_count": 1,
      "outputs": [
        {
          "output_type": "stream",
          "name": "stdout",
          "text": [
            "Looking in indexes: https://pypi.org/simple, https://us-python.pkg.dev/colab-wheels/public/simple/\n",
            "Requirement already satisfied: pytorch_lightning in /usr/local/lib/python3.8/dist-packages (1.9.2)\n",
            "Requirement already satisfied: tqdm>=4.57.0 in /usr/local/lib/python3.8/dist-packages (from pytorch_lightning) (4.64.1)\n",
            "Requirement already satisfied: PyYAML>=5.4 in /usr/local/lib/python3.8/dist-packages (from pytorch_lightning) (6.0)\n",
            "Requirement already satisfied: lightning-utilities>=0.6.0.post0 in /usr/local/lib/python3.8/dist-packages (from pytorch_lightning) (0.7.0)\n",
            "Requirement already satisfied: packaging>=17.1 in /usr/local/lib/python3.8/dist-packages (from pytorch_lightning) (23.0)\n",
            "Requirement already satisfied: torchmetrics>=0.7.0 in /usr/local/lib/python3.8/dist-packages (from pytorch_lightning) (0.11.1)\n",
            "Requirement already satisfied: numpy>=1.17.2 in /usr/local/lib/python3.8/dist-packages (from pytorch_lightning) (1.21.6)\n",
            "Requirement already satisfied: typing-extensions>=4.0.0 in /usr/local/lib/python3.8/dist-packages (from pytorch_lightning) (4.5.0)\n",
            "Requirement already satisfied: fsspec[http]>2021.06.0 in /usr/local/lib/python3.8/dist-packages (from pytorch_lightning) (2023.1.0)\n",
            "Requirement already satisfied: torch>=1.10.0 in /usr/local/lib/python3.8/dist-packages (from pytorch_lightning) (1.13.1+cu116)\n",
            "Requirement already satisfied: requests in /usr/local/lib/python3.8/dist-packages (from fsspec[http]>2021.06.0->pytorch_lightning) (2.25.1)\n",
            "Requirement already satisfied: aiohttp!=4.0.0a0,!=4.0.0a1 in /usr/local/lib/python3.8/dist-packages (from fsspec[http]>2021.06.0->pytorch_lightning) (3.8.4)\n",
            "Requirement already satisfied: aiosignal>=1.1.2 in /usr/local/lib/python3.8/dist-packages (from aiohttp!=4.0.0a0,!=4.0.0a1->fsspec[http]>2021.06.0->pytorch_lightning) (1.3.1)\n",
            "Requirement already satisfied: attrs>=17.3.0 in /usr/local/lib/python3.8/dist-packages (from aiohttp!=4.0.0a0,!=4.0.0a1->fsspec[http]>2021.06.0->pytorch_lightning) (22.2.0)\n",
            "Requirement already satisfied: yarl<2.0,>=1.0 in /usr/local/lib/python3.8/dist-packages (from aiohttp!=4.0.0a0,!=4.0.0a1->fsspec[http]>2021.06.0->pytorch_lightning) (1.8.2)\n",
            "Requirement already satisfied: frozenlist>=1.1.1 in /usr/local/lib/python3.8/dist-packages (from aiohttp!=4.0.0a0,!=4.0.0a1->fsspec[http]>2021.06.0->pytorch_lightning) (1.3.3)\n",
            "Requirement already satisfied: multidict<7.0,>=4.5 in /usr/local/lib/python3.8/dist-packages (from aiohttp!=4.0.0a0,!=4.0.0a1->fsspec[http]>2021.06.0->pytorch_lightning) (6.0.4)\n",
            "Requirement already satisfied: async-timeout<5.0,>=4.0.0a3 in /usr/local/lib/python3.8/dist-packages (from aiohttp!=4.0.0a0,!=4.0.0a1->fsspec[http]>2021.06.0->pytorch_lightning) (4.0.2)\n",
            "Requirement already satisfied: charset-normalizer<4.0,>=2.0 in /usr/local/lib/python3.8/dist-packages (from aiohttp!=4.0.0a0,!=4.0.0a1->fsspec[http]>2021.06.0->pytorch_lightning) (3.0.1)\n",
            "Requirement already satisfied: idna<3,>=2.5 in /usr/local/lib/python3.8/dist-packages (from requests->fsspec[http]>2021.06.0->pytorch_lightning) (2.10)\n",
            "Requirement already satisfied: urllib3<1.27,>=1.21.1 in /usr/local/lib/python3.8/dist-packages (from requests->fsspec[http]>2021.06.0->pytorch_lightning) (1.24.3)\n",
            "Requirement already satisfied: chardet<5,>=3.0.2 in /usr/local/lib/python3.8/dist-packages (from requests->fsspec[http]>2021.06.0->pytorch_lightning) (4.0.0)\n",
            "Requirement already satisfied: certifi>=2017.4.17 in /usr/local/lib/python3.8/dist-packages (from requests->fsspec[http]>2021.06.0->pytorch_lightning) (2022.12.7)\n"
          ]
        }
      ]
    },
    {
      "cell_type": "code",
      "execution_count": 2,
      "metadata": {
        "_cell_guid": "b1076dfc-b9ad-4769-8c92-a6c4dae69d19",
        "_kg_hide-input": true,
        "_kg_hide-output": true,
        "_uuid": "8f2839f25d086af736a60e9eeb907d3b93b6e0e5",
        "execution": {
          "iopub.execute_input": "2020-10-18T13:10:28.341942Z",
          "iopub.status.busy": "2020-10-18T13:10:28.341086Z",
          "iopub.status.idle": "2020-10-18T13:10:37.053178Z",
          "shell.execute_reply": "2020-10-18T13:10:37.053823Z"
        },
        "papermill": {
          "duration": 8.737854,
          "end_time": "2020-10-18T13:10:37.054021",
          "exception": false,
          "start_time": "2020-10-18T13:10:28.316167",
          "status": "completed"
        },
        "tags": [],
        "id": "MqYVuFCwafnj"
      },
      "outputs": [],
      "source": [
        "import pandas as pd\n",
        "import numpy as np\n",
        "from tqdm.notebook import tqdm #progress bars on evaluation part\n",
        "\n",
        "import torch\n",
        "import torch.nn as nn\n",
        "from torch.utils.data import Dataset, DataLoader #methods to build the model\n",
        "import pytorch_lightning as pl\n",
        "\n",
        "np.random.seed(123)"
      ]
    },
    {
      "cell_type": "markdown",
      "metadata": {
        "papermill": {
          "duration": 0.018051,
          "end_time": "2020-10-18T13:10:37.091782",
          "exception": false,
          "start_time": "2020-10-18T13:10:37.073731",
          "status": "completed"
        },
        "tags": [],
        "id": "2eYpm3Idafnk"
      },
      "source": [
        "First, we import the ratings dataset."
      ]
    },
    {
      "cell_type": "code",
      "execution_count": 3,
      "metadata": {
        "execution": {
          "iopub.execute_input": "2020-10-18T13:10:37.142959Z",
          "iopub.status.busy": "2020-10-18T13:10:37.142286Z",
          "iopub.status.idle": "2020-10-18T13:11:39.118428Z",
          "shell.execute_reply": "2020-10-18T13:11:39.117118Z"
        },
        "papermill": {
          "duration": 62.008787,
          "end_time": "2020-10-18T13:11:39.118575",
          "exception": false,
          "start_time": "2020-10-18T13:10:37.109788",
          "status": "completed"
        },
        "tags": [],
        "id": "-cOuIXviafnm"
      },
      "outputs": [],
      "source": [
        "ratings = pd.read_csv('/content/ratings.csv', \n",
        "                      parse_dates=['timestamp']) #from MovieLens 25M Dataset"
      ]
    },
    {
      "cell_type": "markdown",
      "metadata": {
        "papermill": {
          "duration": 0.018883,
          "end_time": "2020-10-18T13:11:39.157211",
          "exception": false,
          "start_time": "2020-10-18T13:11:39.138328",
          "status": "completed"
        },
        "tags": [],
        "id": "OeirJMbmafno"
      },
      "source": [
        "It's a huge dataset, so I preferred to use 40% of the dataset. Users from dataset were chosen randomly."
      ]
    },
    {
      "cell_type": "code",
      "source": [
        "rand_userIds = np.random.choice(ratings['userId'].unique(), \n",
        "                                size=int(len(ratings['userId'].unique())*0.4), \n",
        "                                replace=False)\n",
        "\n",
        "ratings = ratings.loc[ratings['userId'].isin(rand_userIds)]\n",
        "\n",
        "print(f'There are {len(ratings)} rows of data from {len(rand_userIds)} users')"
      ],
      "metadata": {
        "colab": {
          "base_uri": "https://localhost:8080/"
        },
        "id": "ff6Wtq1tyXYd",
        "outputId": "94214865-e8ad-4b43-f3be-f8d2d922b821"
      },
      "execution_count": 4,
      "outputs": [
        {
          "output_type": "stream",
          "name": "stdout",
          "text": [
            "There are 605287 rows of data from 4249 users\n"
          ]
        }
      ]
    },
    {
      "cell_type": "code",
      "execution_count": 5,
      "metadata": {
        "execution": {
          "iopub.execute_input": "2020-10-18T13:11:40.790558Z",
          "iopub.status.busy": "2020-10-18T13:11:40.789535Z",
          "iopub.status.idle": "2020-10-18T13:11:41.033586Z",
          "shell.execute_reply": "2020-10-18T13:11:41.032538Z"
        },
        "papermill": {
          "duration": 0.267479,
          "end_time": "2020-10-18T13:11:41.033716",
          "exception": false,
          "start_time": "2020-10-18T13:11:40.766237",
          "status": "completed"
        },
        "tags": [],
        "colab": {
          "base_uri": "https://localhost:8080/",
          "height": 206
        },
        "id": "rT8PyA7Uafns",
        "outputId": "eb169f6e-33f3-4d18-e32e-453f24c9046d"
      },
      "outputs": [
        {
          "output_type": "execute_result",
          "data": {
            "text/plain": [
              "        userId  movieId  rating   timestamp\n",
              "858990    5784      380     3.0   974662766\n",
              "326483    2257     1252     5.0  1417995254\n",
              "582663    3975     4306     4.0  1327170323\n",
              "92222      702        1     4.5  1570859283\n",
              "727641    4956     3967     4.0  1107579599"
            ],
            "text/html": [
              "\n",
              "  <div id=\"df-c916214f-a80c-4265-93d3-f6eb86f9adae\">\n",
              "    <div class=\"colab-df-container\">\n",
              "      <div>\n",
              "<style scoped>\n",
              "    .dataframe tbody tr th:only-of-type {\n",
              "        vertical-align: middle;\n",
              "    }\n",
              "\n",
              "    .dataframe tbody tr th {\n",
              "        vertical-align: top;\n",
              "    }\n",
              "\n",
              "    .dataframe thead th {\n",
              "        text-align: right;\n",
              "    }\n",
              "</style>\n",
              "<table border=\"1\" class=\"dataframe\">\n",
              "  <thead>\n",
              "    <tr style=\"text-align: right;\">\n",
              "      <th></th>\n",
              "      <th>userId</th>\n",
              "      <th>movieId</th>\n",
              "      <th>rating</th>\n",
              "      <th>timestamp</th>\n",
              "    </tr>\n",
              "  </thead>\n",
              "  <tbody>\n",
              "    <tr>\n",
              "      <th>858990</th>\n",
              "      <td>5784</td>\n",
              "      <td>380</td>\n",
              "      <td>3.0</td>\n",
              "      <td>974662766</td>\n",
              "    </tr>\n",
              "    <tr>\n",
              "      <th>326483</th>\n",
              "      <td>2257</td>\n",
              "      <td>1252</td>\n",
              "      <td>5.0</td>\n",
              "      <td>1417995254</td>\n",
              "    </tr>\n",
              "    <tr>\n",
              "      <th>582663</th>\n",
              "      <td>3975</td>\n",
              "      <td>4306</td>\n",
              "      <td>4.0</td>\n",
              "      <td>1327170323</td>\n",
              "    </tr>\n",
              "    <tr>\n",
              "      <th>92222</th>\n",
              "      <td>702</td>\n",
              "      <td>1</td>\n",
              "      <td>4.5</td>\n",
              "      <td>1570859283</td>\n",
              "    </tr>\n",
              "    <tr>\n",
              "      <th>727641</th>\n",
              "      <td>4956</td>\n",
              "      <td>3967</td>\n",
              "      <td>4.0</td>\n",
              "      <td>1107579599</td>\n",
              "    </tr>\n",
              "  </tbody>\n",
              "</table>\n",
              "</div>\n",
              "      <button class=\"colab-df-convert\" onclick=\"convertToInteractive('df-c916214f-a80c-4265-93d3-f6eb86f9adae')\"\n",
              "              title=\"Convert this dataframe to an interactive table.\"\n",
              "              style=\"display:none;\">\n",
              "        \n",
              "  <svg xmlns=\"http://www.w3.org/2000/svg\" height=\"24px\"viewBox=\"0 0 24 24\"\n",
              "       width=\"24px\">\n",
              "    <path d=\"M0 0h24v24H0V0z\" fill=\"none\"/>\n",
              "    <path d=\"M18.56 5.44l.94 2.06.94-2.06 2.06-.94-2.06-.94-.94-2.06-.94 2.06-2.06.94zm-11 1L8.5 8.5l.94-2.06 2.06-.94-2.06-.94L8.5 2.5l-.94 2.06-2.06.94zm10 10l.94 2.06.94-2.06 2.06-.94-2.06-.94-.94-2.06-.94 2.06-2.06.94z\"/><path d=\"M17.41 7.96l-1.37-1.37c-.4-.4-.92-.59-1.43-.59-.52 0-1.04.2-1.43.59L10.3 9.45l-7.72 7.72c-.78.78-.78 2.05 0 2.83L4 21.41c.39.39.9.59 1.41.59.51 0 1.02-.2 1.41-.59l7.78-7.78 2.81-2.81c.8-.78.8-2.07 0-2.86zM5.41 20L4 18.59l7.72-7.72 1.47 1.35L5.41 20z\"/>\n",
              "  </svg>\n",
              "      </button>\n",
              "      \n",
              "  <style>\n",
              "    .colab-df-container {\n",
              "      display:flex;\n",
              "      flex-wrap:wrap;\n",
              "      gap: 12px;\n",
              "    }\n",
              "\n",
              "    .colab-df-convert {\n",
              "      background-color: #E8F0FE;\n",
              "      border: none;\n",
              "      border-radius: 50%;\n",
              "      cursor: pointer;\n",
              "      display: none;\n",
              "      fill: #1967D2;\n",
              "      height: 32px;\n",
              "      padding: 0 0 0 0;\n",
              "      width: 32px;\n",
              "    }\n",
              "\n",
              "    .colab-df-convert:hover {\n",
              "      background-color: #E2EBFA;\n",
              "      box-shadow: 0px 1px 2px rgba(60, 64, 67, 0.3), 0px 1px 3px 1px rgba(60, 64, 67, 0.15);\n",
              "      fill: #174EA6;\n",
              "    }\n",
              "\n",
              "    [theme=dark] .colab-df-convert {\n",
              "      background-color: #3B4455;\n",
              "      fill: #D2E3FC;\n",
              "    }\n",
              "\n",
              "    [theme=dark] .colab-df-convert:hover {\n",
              "      background-color: #434B5C;\n",
              "      box-shadow: 0px 1px 3px 1px rgba(0, 0, 0, 0.15);\n",
              "      filter: drop-shadow(0px 1px 2px rgba(0, 0, 0, 0.3));\n",
              "      fill: #FFFFFF;\n",
              "    }\n",
              "  </style>\n",
              "\n",
              "      <script>\n",
              "        const buttonEl =\n",
              "          document.querySelector('#df-c916214f-a80c-4265-93d3-f6eb86f9adae button.colab-df-convert');\n",
              "        buttonEl.style.display =\n",
              "          google.colab.kernel.accessAllowed ? 'block' : 'none';\n",
              "\n",
              "        async function convertToInteractive(key) {\n",
              "          const element = document.querySelector('#df-c916214f-a80c-4265-93d3-f6eb86f9adae');\n",
              "          const dataTable =\n",
              "            await google.colab.kernel.invokeFunction('convertToInteractive',\n",
              "                                                     [key], {});\n",
              "          if (!dataTable) return;\n",
              "\n",
              "          const docLinkHtml = 'Like what you see? Visit the ' +\n",
              "            '<a target=\"_blank\" href=https://colab.research.google.com/notebooks/data_table.ipynb>data table notebook</a>'\n",
              "            + ' to learn more about interactive tables.';\n",
              "          element.innerHTML = '';\n",
              "          dataTable['output_type'] = 'display_data';\n",
              "          await google.colab.output.renderOutput(dataTable, element);\n",
              "          const docLink = document.createElement('div');\n",
              "          docLink.innerHTML = docLinkHtml;\n",
              "          element.appendChild(docLink);\n",
              "        }\n",
              "      </script>\n",
              "    </div>\n",
              "  </div>\n",
              "  "
            ]
          },
          "metadata": {},
          "execution_count": 5
        }
      ],
      "source": [
        "ratings.sample(5) #random 5 rows"
      ]
    },
    {
      "cell_type": "markdown",
      "metadata": {
        "papermill": {
          "duration": 0.022154,
          "end_time": "2020-10-18T13:11:41.078682",
          "exception": false,
          "start_time": "2020-10-18T13:11:41.056528",
          "status": "completed"
        },
        "tags": [],
        "id": "xAipwb5iafnt"
      },
      "source": [
        "Here you can see user(user_id), who rated some movie(movie_id) with rating from 0.5 t0 5.0(rating). "
      ]
    },
    {
      "cell_type": "markdown",
      "metadata": {
        "papermill": {
          "duration": 0.019875,
          "end_time": "2020-10-18T13:11:41.119023",
          "exception": false,
          "start_time": "2020-10-18T13:11:41.099148",
          "status": "completed"
        },
        "tags": [],
        "id": "uddo5kUsafnw"
      },
      "source": [
        "### Splitting the dataset\n",
        "\n",
        "`timestamp` shows Unix epoch(seconds since Jan 01, 1970). For each user, the most recent review is used as the test set (i.e. leave one out), while the rest will be used as training data.\n",
        "\n",
        "For example, last reviewed movie of user 67 was Avatar. That means, Avatar will be used as test data, whereas other reviewed movies will be training data. \n",
        "\n",
        "I couldn't split the data randomly, because it would mix user's last reviews with earlier one's. It won't lead to data leakage(I tested it before)."
      ]
    },
    {
      "cell_type": "code",
      "execution_count": 6,
      "metadata": {
        "execution": {
          "iopub.execute_input": "2020-10-18T13:11:41.168561Z",
          "iopub.status.busy": "2020-10-18T13:11:41.167604Z",
          "iopub.status.idle": "2020-10-18T13:11:42.570836Z",
          "shell.execute_reply": "2020-10-18T13:11:42.569523Z"
        },
        "papermill": {
          "duration": 1.431514,
          "end_time": "2020-10-18T13:11:42.570995",
          "exception": false,
          "start_time": "2020-10-18T13:11:41.139481",
          "status": "completed"
        },
        "tags": [],
        "id": "6lQ7ZqE6afny"
      },
      "outputs": [],
      "source": [
        "# Leave-one-out methodology\n",
        "# Calculate the latest rating rank for each user\n",
        "ratings['rank_latest'] = ratings.groupby(['userId'])['timestamp'] \\\n",
        "                                .rank(method='first', ascending=False)\n",
        "                                \n",
        "# Split the dataset into train and test sets based on the latest rating rank\n",
        "train_ratings = ratings[ratings['rank_latest'] != 1]\n",
        "test_ratings = ratings[ratings['rank_latest'] == 1]\n",
        "\n",
        "# drop columns that we no longer need\n",
        "train_ratings = train_ratings[['userId', 'movieId', 'rating']]\n",
        "test_ratings = test_ratings[['userId', 'movieId', 'rating']]\n"
      ]
    },
    {
      "cell_type": "markdown",
      "metadata": {
        "papermill": {
          "duration": 0.020591,
          "end_time": "2020-10-18T13:11:42.612372",
          "exception": false,
          "start_time": "2020-10-18T13:11:42.591781",
          "status": "completed"
        },
        "tags": [],
        "id": "_NJSef0Zafn0"
      },
      "source": [
        "### Converting the dataset into an implicit feedback dataset\n",
        "\n",
        "MovieLens dataset uses explicit feedback. I converted them to 1's to make them implicit. \n",
        "\n",
        "1 - User rated movie.\n",
        "\n",
        "It's done to predict whether the user will interact with movies, with the aim of presenting to users the movies with the highest interaction likelihood.\n",
        "\n",
        "\n",
        "\n",
        "\n"
      ]
    },
    {
      "cell_type": "code",
      "execution_count": 7,
      "metadata": {
        "execution": {
          "iopub.execute_input": "2020-10-18T13:11:42.660971Z",
          "iopub.status.busy": "2020-10-18T13:11:42.659608Z",
          "iopub.status.idle": "2020-10-18T13:11:43.006423Z",
          "shell.execute_reply": "2020-10-18T13:11:43.006990Z"
        },
        "papermill": {
          "duration": 0.374109,
          "end_time": "2020-10-18T13:11:43.007136",
          "exception": false,
          "start_time": "2020-10-18T13:11:42.633027",
          "status": "completed"
        },
        "tags": [],
        "colab": {
          "base_uri": "https://localhost:8080/",
          "height": 206
        },
        "id": "PEXP9XZwafn0",
        "outputId": "22e8760f-fa8c-49df-cd9c-0f570d501473"
      },
      "outputs": [
        {
          "output_type": "execute_result",
          "data": {
            "text/plain": [
              "         userId  movieId  rating\n",
              "1094752    7388     4367       1\n",
              "1156034    7792     1694       1\n",
              "1264032    8537     7438       1\n",
              "1239227    8376     3147       1\n",
              "830085     5591     1088       1"
            ],
            "text/html": [
              "\n",
              "  <div id=\"df-5a83c0c1-ee54-4e2f-81fd-9cde46c842fb\">\n",
              "    <div class=\"colab-df-container\">\n",
              "      <div>\n",
              "<style scoped>\n",
              "    .dataframe tbody tr th:only-of-type {\n",
              "        vertical-align: middle;\n",
              "    }\n",
              "\n",
              "    .dataframe tbody tr th {\n",
              "        vertical-align: top;\n",
              "    }\n",
              "\n",
              "    .dataframe thead th {\n",
              "        text-align: right;\n",
              "    }\n",
              "</style>\n",
              "<table border=\"1\" class=\"dataframe\">\n",
              "  <thead>\n",
              "    <tr style=\"text-align: right;\">\n",
              "      <th></th>\n",
              "      <th>userId</th>\n",
              "      <th>movieId</th>\n",
              "      <th>rating</th>\n",
              "    </tr>\n",
              "  </thead>\n",
              "  <tbody>\n",
              "    <tr>\n",
              "      <th>1094752</th>\n",
              "      <td>7388</td>\n",
              "      <td>4367</td>\n",
              "      <td>1</td>\n",
              "    </tr>\n",
              "    <tr>\n",
              "      <th>1156034</th>\n",
              "      <td>7792</td>\n",
              "      <td>1694</td>\n",
              "      <td>1</td>\n",
              "    </tr>\n",
              "    <tr>\n",
              "      <th>1264032</th>\n",
              "      <td>8537</td>\n",
              "      <td>7438</td>\n",
              "      <td>1</td>\n",
              "    </tr>\n",
              "    <tr>\n",
              "      <th>1239227</th>\n",
              "      <td>8376</td>\n",
              "      <td>3147</td>\n",
              "      <td>1</td>\n",
              "    </tr>\n",
              "    <tr>\n",
              "      <th>830085</th>\n",
              "      <td>5591</td>\n",
              "      <td>1088</td>\n",
              "      <td>1</td>\n",
              "    </tr>\n",
              "  </tbody>\n",
              "</table>\n",
              "</div>\n",
              "      <button class=\"colab-df-convert\" onclick=\"convertToInteractive('df-5a83c0c1-ee54-4e2f-81fd-9cde46c842fb')\"\n",
              "              title=\"Convert this dataframe to an interactive table.\"\n",
              "              style=\"display:none;\">\n",
              "        \n",
              "  <svg xmlns=\"http://www.w3.org/2000/svg\" height=\"24px\"viewBox=\"0 0 24 24\"\n",
              "       width=\"24px\">\n",
              "    <path d=\"M0 0h24v24H0V0z\" fill=\"none\"/>\n",
              "    <path d=\"M18.56 5.44l.94 2.06.94-2.06 2.06-.94-2.06-.94-.94-2.06-.94 2.06-2.06.94zm-11 1L8.5 8.5l.94-2.06 2.06-.94-2.06-.94L8.5 2.5l-.94 2.06-2.06.94zm10 10l.94 2.06.94-2.06 2.06-.94-2.06-.94-.94-2.06-.94 2.06-2.06.94z\"/><path d=\"M17.41 7.96l-1.37-1.37c-.4-.4-.92-.59-1.43-.59-.52 0-1.04.2-1.43.59L10.3 9.45l-7.72 7.72c-.78.78-.78 2.05 0 2.83L4 21.41c.39.39.9.59 1.41.59.51 0 1.02-.2 1.41-.59l7.78-7.78 2.81-2.81c.8-.78.8-2.07 0-2.86zM5.41 20L4 18.59l7.72-7.72 1.47 1.35L5.41 20z\"/>\n",
              "  </svg>\n",
              "      </button>\n",
              "      \n",
              "  <style>\n",
              "    .colab-df-container {\n",
              "      display:flex;\n",
              "      flex-wrap:wrap;\n",
              "      gap: 12px;\n",
              "    }\n",
              "\n",
              "    .colab-df-convert {\n",
              "      background-color: #E8F0FE;\n",
              "      border: none;\n",
              "      border-radius: 50%;\n",
              "      cursor: pointer;\n",
              "      display: none;\n",
              "      fill: #1967D2;\n",
              "      height: 32px;\n",
              "      padding: 0 0 0 0;\n",
              "      width: 32px;\n",
              "    }\n",
              "\n",
              "    .colab-df-convert:hover {\n",
              "      background-color: #E2EBFA;\n",
              "      box-shadow: 0px 1px 2px rgba(60, 64, 67, 0.3), 0px 1px 3px 1px rgba(60, 64, 67, 0.15);\n",
              "      fill: #174EA6;\n",
              "    }\n",
              "\n",
              "    [theme=dark] .colab-df-convert {\n",
              "      background-color: #3B4455;\n",
              "      fill: #D2E3FC;\n",
              "    }\n",
              "\n",
              "    [theme=dark] .colab-df-convert:hover {\n",
              "      background-color: #434B5C;\n",
              "      box-shadow: 0px 1px 3px 1px rgba(0, 0, 0, 0.15);\n",
              "      filter: drop-shadow(0px 1px 2px rgba(0, 0, 0, 0.3));\n",
              "      fill: #FFFFFF;\n",
              "    }\n",
              "  </style>\n",
              "\n",
              "      <script>\n",
              "        const buttonEl =\n",
              "          document.querySelector('#df-5a83c0c1-ee54-4e2f-81fd-9cde46c842fb button.colab-df-convert');\n",
              "        buttonEl.style.display =\n",
              "          google.colab.kernel.accessAllowed ? 'block' : 'none';\n",
              "\n",
              "        async function convertToInteractive(key) {\n",
              "          const element = document.querySelector('#df-5a83c0c1-ee54-4e2f-81fd-9cde46c842fb');\n",
              "          const dataTable =\n",
              "            await google.colab.kernel.invokeFunction('convertToInteractive',\n",
              "                                                     [key], {});\n",
              "          if (!dataTable) return;\n",
              "\n",
              "          const docLinkHtml = 'Like what you see? Visit the ' +\n",
              "            '<a target=\"_blank\" href=https://colab.research.google.com/notebooks/data_table.ipynb>data table notebook</a>'\n",
              "            + ' to learn more about interactive tables.';\n",
              "          element.innerHTML = '';\n",
              "          dataTable['output_type'] = 'display_data';\n",
              "          await google.colab.output.renderOutput(dataTable, element);\n",
              "          const docLink = document.createElement('div');\n",
              "          docLink.innerHTML = docLinkHtml;\n",
              "          element.appendChild(docLink);\n",
              "        }\n",
              "      </script>\n",
              "    </div>\n",
              "  </div>\n",
              "  "
            ]
          },
          "metadata": {},
          "execution_count": 7
        }
      ],
      "source": [
        "train_ratings.loc[:, 'rating'] = 1\n",
        "\n",
        "train_ratings.sample(5)"
      ]
    },
    {
      "cell_type": "markdown",
      "metadata": {
        "papermill": {
          "duration": 0.020144,
          "end_time": "2020-10-18T13:11:43.048926",
          "exception": false,
          "start_time": "2020-10-18T13:11:43.028782",
          "status": "completed"
        },
        "tags": [],
        "id": "sUogz9H0afn2"
      },
      "source": [
        "Now, every rating is 1 which causes some troubles. We don't have negative reviews.\n",
        "\n",
        "In code below, I generated negative samples with ratio 4:1. I read, that it's most likely to be real-life scenario(from 3:1 to 5:1).\n",
        "[Negative to Postive ratio](https://www.etouchpoint.com/do-you-know-your-ratio-of-positive-to-negative-cx-feedback/)\n",
        "\n"
      ]
    },
    {
      "cell_type": "code",
      "execution_count": 8,
      "metadata": {
        "execution": {
          "iopub.execute_input": "2020-10-18T13:11:43.102274Z",
          "iopub.status.busy": "2020-10-18T13:11:43.101220Z",
          "iopub.status.idle": "2020-10-18T13:16:17.556739Z",
          "shell.execute_reply": "2020-10-18T13:16:17.553418Z"
        },
        "papermill": {
          "duration": 274.486305,
          "end_time": "2020-10-18T13:16:17.556896",
          "exception": false,
          "start_time": "2020-10-18T13:11:43.070591",
          "status": "completed"
        },
        "tags": [],
        "colab": {
          "base_uri": "https://localhost:8080/",
          "height": 49,
          "referenced_widgets": [
            "648cb566672c433cb5b5a08471c6e580",
            "86ae811d3d0a45a9bd2b3f418566ea2e",
            "e0947a8100b24546b3b0f108bfa16f32",
            "08aebea0c1cd46669113ff9fda62e757",
            "23e01ca4eba14fd49f77fab7b3008a71",
            "817e4971808e44efb898f7ed2485bfde",
            "3f733bce91ea4a39a1881bcdcb704c7e",
            "63d348565ae44fe486c3dccb2989d95f",
            "641c803f7d84453d808da05a1af09269",
            "b82624918e604b03b41d6af64a28ef37",
            "028f213211784df88abb08e4001b4d58"
          ]
        },
        "id": "952jEl_vafn3",
        "outputId": "ab8f3cf9-3ed8-418c-9d34-ae7e52685da8"
      },
      "outputs": [
        {
          "output_type": "display_data",
          "data": {
            "text/plain": [
              "  0%|          | 0/601038 [00:00<?, ?it/s]"
            ],
            "application/vnd.jupyter.widget-view+json": {
              "version_major": 2,
              "version_minor": 0,
              "model_id": "648cb566672c433cb5b5a08471c6e580"
            }
          },
          "metadata": {}
        }
      ],
      "source": [
        "# Get a list of all movie IDs\n",
        "all_movieIds = ratings['movieId'].unique()\n",
        "\n",
        "# Placeholders that will hold the training data\n",
        "users, items, labels = [], [], []\n",
        "\n",
        "# This is the set of items that each user has interaction with\n",
        "user_item_set = set(zip(train_ratings['userId'], train_ratings['movieId']))\n",
        "\n",
        "# 4:1 ratio of negative to positive samples\n",
        "num_negatives = 4\n",
        "\n",
        "for (u, i) in tqdm(user_item_set):\n",
        "    users.append(u)\n",
        "    items.append(i)\n",
        "    labels.append(1) # items that the user has interacted with are positive\n",
        "    for _ in range(num_negatives):\n",
        "        # randomly select an item\n",
        "        negative_item = np.random.choice(all_movieIds) \n",
        "        # checking whether user has not interacted with this item\n",
        "        while (u, negative_item) in user_item_set:\n",
        "            negative_item = np.random.choice(all_movieIds)\n",
        "        users.append(u)\n",
        "        items.append(negative_item)\n",
        "        labels.append(0) # Movies that were not interacted - negative"
      ]
    },
    {
      "cell_type": "markdown",
      "metadata": {
        "papermill": {
          "duration": 0.021628,
          "end_time": "2020-10-18T13:16:17.601195",
          "exception": false,
          "start_time": "2020-10-18T13:16:17.579567",
          "status": "completed"
        },
        "tags": [],
        "id": "ZxxWkbd3afn3"
      },
      "source": [
        "Defining PyTorch Dataset to facilitate training. The class below encapsulates the code above into a PyTorch Dataset class."
      ]
    },
    {
      "cell_type": "code",
      "execution_count": 9,
      "metadata": {
        "execution": {
          "iopub.execute_input": "2020-10-18T13:16:17.649003Z",
          "iopub.status.busy": "2020-10-18T13:16:17.647916Z",
          "iopub.status.idle": "2020-10-18T13:16:17.663861Z",
          "shell.execute_reply": "2020-10-18T13:16:17.664392Z"
        },
        "papermill": {
          "duration": 0.041812,
          "end_time": "2020-10-18T13:16:17.664532",
          "exception": false,
          "start_time": "2020-10-18T13:16:17.622720",
          "status": "completed"
        },
        "tags": [],
        "id": "yjxjgI2qafn4"
      },
      "outputs": [],
      "source": [
        "class MovieLensTrainDataset(Dataset):\n",
        "    \"\"\"MovieLens PyTorch Dataset for Training\n",
        "    \n",
        "    Args:\n",
        "        ratings (pd.DataFrame): Dataframe containing the movie ratings\n",
        "        all_movieIds (list): List containing all movieIds\n",
        "    \n",
        "    \"\"\"\n",
        "\n",
        "    def __init__(self, ratings, all_movieIds):\n",
        "        self.users, self.items, self.labels = self.get_dataset(ratings, all_movieIds)\n",
        "\n",
        "    def __len__(self):\n",
        "        return len(self.users)\n",
        "  \n",
        "    def __getitem__(self, idx):\n",
        "        return self.users[idx], self.items[idx], self.labels[idx]\n",
        "\n",
        "    def get_dataset(self, ratings, all_movieIds):\n",
        "        users, items, labels = [], [], []\n",
        "        user_item_set = set(zip(ratings['userId'], ratings['movieId']))\n",
        "\n",
        "        num_negatives = 4\n",
        "        for u, i in user_item_set:\n",
        "            users.append(u)\n",
        "            items.append(i)\n",
        "            labels.append(1)\n",
        "            for _ in range(num_negatives):\n",
        "                negative_item = np.random.choice(all_movieIds)\n",
        "                while (u, negative_item) in user_item_set:\n",
        "                    negative_item = np.random.choice(all_movieIds)\n",
        "                users.append(u)\n",
        "                items.append(negative_item)\n",
        "                labels.append(0)\n",
        "\n",
        "        return torch.tensor(users), torch.tensor(items), torch.tensor(labels)"
      ]
    },
    {
      "cell_type": "markdown",
      "metadata": {
        "papermill": {
          "duration": 0.022177,
          "end_time": "2020-10-18T13:16:17.708916",
          "exception": false,
          "start_time": "2020-10-18T13:16:17.686739",
          "status": "completed"
        },
        "tags": [],
        "id": "sXHY3_UIafn5"
      },
      "source": [
        "# Our model - Neural Collaborative Filtering (NCF)\n",
        "\n",
        "I found this model great for this [project](https://towardsdatascience.com/neural-collaborative-filtering-96cef1009401)\n",
        "\n",
        "### User Embeddings\n",
        "\n",
        "An embedding is a low-dimensional space that captures the relationship of vectors from a higher dimensional space.\n",
        "\n",
        "Ex.: User loves 2 genres - Comedy and thrillers movies.\n",
        "\n",
        "1st dimension is - how much he loves comedy movies.\n",
        "2nd dimension is - how much he loves thriller movies.\n",
        "\n",
        "![Capture.PNG](data:image/png;base64,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)\n",
        "\n",
        "Let's say, Nurzhas loves thrillers, but doesn't likes thrillers. So, in graph, he would look like this:\n",
        "\n",
        "![Capture1.PNG](data:image/png;base64,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)\n",
        "\n",
        "Other user, Yerasyl is opposite of Nurzhas.\n",
        "![2.PNG](data:image/png;base64,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)\n",
        "\n",
        "This is known as 2d embedding. Here we can easily track preferences of users in 2d linespace.\n",
        "\n",
        "More dimensions = more traits of users. \n",
        "In this model exactly, I used 8d model.\n",
        "\n",
        "### Learned Embeddings\n",
        "\n",
        "Seperate movie embegging will be used to represent the traits of movies(in lowerd dimension).\n",
        "\n",
        "How to automatically get weights for embeddings? Answers is - Collaborative Filteging.\n",
        "\n",
        "By using the ratings dataset, we can identify similar users and movies, creating user and item embeddings learned from existing ratings.\n",
        "\n",
        "### Model Architecture\n",
        "\n",
        "User and movie(item) embeddings are key to the model.\n",
        " \n",
        "Let's walk through the model architecture using the following training sample:\n",
        "\n",
        "| userId | movieID | interacted |\n",
        "|-|-|-|\n",
        "| 17 | 4 | 1 |\n",
        "here that's positive review, because user interacted with movie.\n",
        "\n",
        " ![3.PNG](data:image/png;base64,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)\n",
        "\n",
        "The user input vector and item input vector are fed to the user embedding and item embedding respectively, which results in a smaller, denser user and item vectors. \n",
        "\n",
        "The embedded user and item vectors are concatenated before passing through a series of fully connected layers, which maps the concatenated embeddings into a prediction vector as output. \n",
        "\n",
        "Finally, we apply a `Sigmoid` function to obtain the most probable class.\n",
        "\n",
        "Let's create NCF model using PyTorch Lightning!"
      ]
    },
    {
      "cell_type": "code",
      "execution_count": 10,
      "metadata": {
        "execution": {
          "iopub.execute_input": "2020-10-18T13:16:17.771678Z",
          "iopub.status.busy": "2020-10-18T13:16:17.770768Z",
          "iopub.status.idle": "2020-10-18T13:16:17.773962Z",
          "shell.execute_reply": "2020-10-18T13:16:17.773387Z"
        },
        "papermill": {
          "duration": 0.042642,
          "end_time": "2020-10-18T13:16:17.774070",
          "exception": false,
          "start_time": "2020-10-18T13:16:17.731428",
          "status": "completed"
        },
        "tags": [],
        "id": "Tx-EeTjoafn6"
      },
      "outputs": [],
      "source": [
        "class NCF(pl.LightningModule):\n",
        "    \"\"\" Neural Collaborative Filtering (NCF)\n",
        "    \n",
        "        Args:\n",
        "            num_users (int): Number of unique users\n",
        "            num_items (int): Number of unique items\n",
        "            ratings (pd.DataFrame): Dataframe containing the movie ratings for training\n",
        "            all_movieIds (list): List containing all movieIds (train + test)\n",
        "    \"\"\"\n",
        "    \n",
        "    # embedding layers for the users and items, and three fully connected (dense) layers with ReLU activation functions.\n",
        "    def __init__(self, num_users, num_items, ratings, all_movieIds):\n",
        "        super().__init__()\n",
        "        self.user_embedding = nn.Embedding(num_embeddings=num_users, embedding_dim=8) #8 dimesional embedding\n",
        "        self.item_embedding = nn.Embedding(num_embeddings=num_items, embedding_dim=8)\n",
        "        self.fc1 = nn.Linear(in_features=16, out_features=64)\n",
        "        self.fc2 = nn.Linear(in_features=64, out_features=32)\n",
        "        self.output = nn.Linear(in_features=32, out_features=1)\n",
        "        self.ratings = ratings\n",
        "        self.all_movieIds = all_movieIds\n",
        "        \n",
        "    #embedding user and movie inputs, concatenates and passes through 3 dense layers(above function)\n",
        "    def forward(self, user_input, item_input):\n",
        "        \n",
        "        # Pass through embedding layers\n",
        "        user_embedded = self.user_embedding(user_input)\n",
        "        item_embedded = self.item_embedding(item_input)\n",
        "\n",
        "        # Concat the two embedding layers\n",
        "        vector = torch.cat([user_embedded, item_embedded], dim=-1)\n",
        "\n",
        "        # Pass through dense layer\n",
        "        vector = nn.ReLU()(self.fc1(vector))\n",
        "        vector = nn.ReLU()(self.fc2(vector))\n",
        "\n",
        "        # Output layer\n",
        "        pred = nn.Sigmoid()(self.output(vector))\n",
        "\n",
        "        return pred\n",
        "    \n",
        "    #defining training step for the model and loss function is computing the loss\n",
        "    def training_step(self, batch, batch_idx):\n",
        "        user_input, item_input, labels = batch\n",
        "        predicted_labels = self(user_input, item_input)\n",
        "        loss = nn.BCELoss()(predicted_labels, labels.view(-1, 1).float()) #computing the loss\n",
        "        return loss\n",
        "\n",
        "    def configure_optimizers(self):\n",
        "        return torch.optim.Adam(self.parameters()) #specified Adam optimizer\n",
        "\n",
        "    #defining trainnig data loader for the model. We take negative and positive reviews from dataset for training\n",
        "    def train_dataloader(self): \n",
        "        return DataLoader(MovieLensTrainDataset(self.ratings, self.all_movieIds),\n",
        "                          batch_size=512, num_workers=4)"
      ]
    },
    {
      "cell_type": "markdown",
      "metadata": {
        "papermill": {
          "duration": 0.021993,
          "end_time": "2020-10-18T13:16:17.818681",
          "exception": false,
          "start_time": "2020-10-18T13:16:17.796688",
          "status": "completed"
        },
        "tags": [],
        "id": "aFGEtpQcafn8"
      },
      "source": [
        "Instantiating the NCF model using the class above"
      ]
    },
    {
      "cell_type": "code",
      "execution_count": 11,
      "metadata": {
        "execution": {
          "iopub.execute_input": "2020-10-18T13:16:17.869945Z",
          "iopub.status.busy": "2020-10-18T13:16:17.869024Z",
          "iopub.status.idle": "2020-10-18T13:16:17.966070Z",
          "shell.execute_reply": "2020-10-18T13:16:17.966596Z"
        },
        "papermill": {
          "duration": 0.126039,
          "end_time": "2020-10-18T13:16:17.966744",
          "exception": false,
          "start_time": "2020-10-18T13:16:17.840705",
          "status": "completed"
        },
        "tags": [],
        "id": "nzBeEAk7afn8"
      },
      "outputs": [],
      "source": [
        "num_users = ratings['userId'].max()+1\n",
        "num_items = ratings['movieId'].max()+1\n",
        "\n",
        "all_movieIds = ratings['movieId'].unique()\n",
        "\n",
        "model = NCF(num_users, num_items, train_ratings, all_movieIds)"
      ]
    },
    {
      "cell_type": "markdown",
      "metadata": {
        "papermill": {
          "duration": 0.023543,
          "end_time": "2020-10-18T13:16:18.013143",
          "exception": false,
          "start_time": "2020-10-18T13:16:17.989600",
          "status": "completed"
        },
        "tags": [],
        "id": "UlViCwWhafn9"
      },
      "source": [
        "Let's train our NCF model for 5 epochs using the GPU. "
      ]
    },
    {
      "cell_type": "code",
      "execution_count": 14,
      "metadata": {
        "execution": {
          "iopub.execute_input": "2020-10-18T13:16:18.432818Z",
          "iopub.status.busy": "2020-10-18T13:16:18.431691Z",
          "iopub.status.idle": "2020-10-18T14:55:25.238323Z",
          "shell.execute_reply": "2020-10-18T14:55:25.237665Z"
        },
        "papermill": {
          "duration": 5947.202543,
          "end_time": "2020-10-18T14:55:25.238474",
          "exception": false,
          "start_time": "2020-10-18T13:16:18.035931",
          "status": "completed"
        },
        "tags": [],
        "id": "cj_9Xkvtafn-",
        "colab": {
          "base_uri": "https://localhost:8080/",
          "height": 502,
          "referenced_widgets": [
            "b4f7c13d73f945b39ba5256b152580d3",
            "60245c246efa4ff2b6be97e0e14ef66a",
            "bb4cbeb59c144173b25f56c7271d1b28",
            "88116df28f4940f6a050e268c45bcd0b",
            "1823bd41675b40e19cf4461934f36ba9",
            "637e54a66110403c892154e76c5b7a64",
            "11728fc5522d48e8a3b66337d37e3f50",
            "9583d77c95c449bfa0e67e2adc2ca56a",
            "f6965cc7cde444f1997a91fed4799a20",
            "dc78dee70d0d4474a78b1470859c9b73",
            "5f2880d3b73040d1be060e5929a2f8f9"
          ]
        },
        "outputId": "60472cad-fb1d-4262-fcbc-99bf15cf136d"
      },
      "outputs": [
        {
          "output_type": "stream",
          "name": "stderr",
          "text": [
            "/usr/local/lib/python3.8/dist-packages/pytorch_lightning/trainer/connectors/accelerator_connector.py:474: LightningDeprecationWarning: Setting `Trainer(gpus=1)` is deprecated in v1.7 and will be removed in v2.0. Please use `Trainer(accelerator='gpu', devices=1)` instead.\n",
            "  rank_zero_deprecation(\n",
            "INFO:pytorch_lightning.utilities.rank_zero:GPU available: True (cuda), used: True\n",
            "INFO:pytorch_lightning.utilities.rank_zero:TPU available: False, using: 0 TPU cores\n",
            "INFO:pytorch_lightning.utilities.rank_zero:IPU available: False, using: 0 IPUs\n",
            "INFO:pytorch_lightning.utilities.rank_zero:HPU available: False, using: 0 HPUs\n",
            "INFO:pytorch_lightning.accelerators.cuda:LOCAL_RANK: 0 - CUDA_VISIBLE_DEVICES: [0]\n",
            "INFO:pytorch_lightning.callbacks.model_summary:\n",
            "  | Name           | Type      | Params\n",
            "---------------------------------------------\n",
            "0 | user_embedding | Embedding | 85.0 K\n",
            "1 | item_embedding | Embedding | 1.7 M \n",
            "2 | fc1            | Linear    | 1.1 K \n",
            "3 | fc2            | Linear    | 2.1 K \n",
            "4 | output         | Linear    | 33    \n",
            "---------------------------------------------\n",
            "1.8 M     Trainable params\n",
            "0         Non-trainable params\n",
            "1.8 M     Total params\n",
            "7.046     Total estimated model params size (MB)\n",
            "/usr/local/lib/python3.8/dist-packages/torch/utils/data/dataloader.py:554: UserWarning: This DataLoader will create 4 worker processes in total. Our suggested max number of worker in current system is 2, which is smaller than what this DataLoader is going to create. Please be aware that excessive worker creation might get DataLoader running slow or even freeze, lower the worker number to avoid potential slowness/freeze if necessary.\n",
            "  warnings.warn(_create_warning_msg(\n"
          ]
        },
        {
          "output_type": "display_data",
          "data": {
            "text/plain": [
              "Training: 0it [00:00, ?it/s]"
            ],
            "application/vnd.jupyter.widget-view+json": {
              "version_major": 2,
              "version_minor": 0,
              "model_id": "b4f7c13d73f945b39ba5256b152580d3"
            }
          },
          "metadata": {}
        },
        {
          "output_type": "stream",
          "name": "stderr",
          "text": [
            "INFO:pytorch_lightning.utilities.rank_zero:`Trainer.fit` stopped: `max_epochs=5` reached.\n"
          ]
        }
      ],
      "source": [
        "trainer = pl.Trainer(max_epochs=5, gpus=1)\n",
        "\n",
        "trainer.fit(model)"
      ]
    },
    {
      "cell_type": "markdown",
      "metadata": {
        "papermill": {
          "duration": 0.025614,
          "end_time": "2020-10-18T14:55:25.291371",
          "exception": false,
          "start_time": "2020-10-18T14:55:25.265757",
          "status": "completed"
        },
        "tags": [],
        "id": "4icmaNDGafn_"
      },
      "source": [
        "# Evaluating our Recommender System\n",
        "\n",
        "I tried evaluating it with accurary or RMSE, but it didn't fit to the recommendation system evaluation.\n",
        "\n",
        "Why? Because, user don't have to click on every item that he sees. Instead, we need him to click on one of the many items. As long as user obey this pattern, our system works great.\n",
        "\n",
        "I simulated it's evaluation for 25 items that could be recommended for user.\n",
        "\n",
        "- User have 99 items that he didn't click on.\n",
        "- We combine it with 1 test item(remember Avater movie?)\n",
        "- Run the model, and rantk them accordint to their probabilities.\n",
        "- I chose top 25 movies from this 100 initial items. If test movie is there, then out model works.\n",
        "- Repeat it for all users. The Hit Ratio is then the average hits.\n",
        "\n",
        "This is Hit Ratio 25, and it's used in most of the modern recommendation systems.\n"
      ]
    },
    {
      "cell_type": "markdown",
      "metadata": {
        "papermill": {
          "duration": 0.025582,
          "end_time": "2020-10-18T14:55:25.342644",
          "exception": false,
          "start_time": "2020-10-18T14:55:25.317062",
          "status": "completed"
        },
        "tags": [],
        "id": "-UA80k2mafn_"
      },
      "source": [
        "### Hit Ratio 25"
      ]
    },
    {
      "cell_type": "code",
      "execution_count": 15,
      "metadata": {
        "execution": {
          "iopub.execute_input": "2020-10-18T14:55:25.436740Z",
          "iopub.status.busy": "2020-10-18T14:55:25.435748Z",
          "iopub.status.idle": "2020-10-18T15:04:51.838863Z",
          "shell.execute_reply": "2020-10-18T15:04:51.839391Z"
        },
        "papermill": {
          "duration": 566.471637,
          "end_time": "2020-10-18T15:04:51.839576",
          "exception": false,
          "start_time": "2020-10-18T14:55:25.367939",
          "status": "completed"
        },
        "tags": [],
        "id": "ZuVE4oAYafn_",
        "colab": {
          "base_uri": "https://localhost:8080/",
          "height": 68,
          "referenced_widgets": [
            "3bb70ec983994731a88be4c4523f116f",
            "4c004bbbba28422c9847a08d80fca30d",
            "34bae3cbd3494009937bb2b5c2908195",
            "1f481cb0128340dfb05e61452bb06cd8",
            "61d642139020437e8dcd114a816f3ea9",
            "9482894ef34b44c185e038102d802b68",
            "c9a1bb5b2c9444ef931e205643aef95d",
            "6a13c3dd2f7145bc9209e49efee059f9",
            "1179d8113efc413cb8c09c8fdc3ea0b5",
            "7fae31c08ee44f6c9e2cbde3ef4a40aa",
            "e8b72bda69344847879e91d6a07445de"
          ]
        },
        "outputId": "b255ce8c-738a-4c65-d6d7-a7f29a7ad78e"
      },
      "outputs": [
        {
          "output_type": "display_data",
          "data": {
            "text/plain": [
              "  0%|          | 0/4249 [00:00<?, ?it/s]"
            ],
            "application/vnd.jupyter.widget-view+json": {
              "version_major": 2,
              "version_minor": 0,
              "model_id": "3bb70ec983994731a88be4c4523f116f"
            }
          },
          "metadata": {}
        },
        {
          "output_type": "stream",
          "name": "stdout",
          "text": [
            "The Hit Ratio 25 is 0.90\n"
          ]
        }
      ],
      "source": [
        "# User-item pairs for testing\n",
        "test_user_item_set = set(zip(test_ratings['userId'], test_ratings['movieId']))\n",
        "\n",
        "# Dict of all items that are interacted with by each user\n",
        "user_interacted_items = ratings.groupby('userId')['movieId'].apply(list).to_dict()\n",
        "\n",
        "hits = []\n",
        "for (u,i) in tqdm(test_user_item_set):\n",
        "    interacted_items = user_interacted_items[u]\n",
        "    not_interacted_items = set(all_movieIds) - set(interacted_items)\n",
        "    selected_not_interacted = list(np.random.choice(list(not_interacted_items), 99))\n",
        "    test_items = selected_not_interacted + [i]\n",
        "    \n",
        "    predicted_labels = np.squeeze(model(torch.tensor([u]*100), \n",
        "                                        torch.tensor(test_items)).detach().numpy())\n",
        "    \n",
        "    top25_items = [test_items[i] for i in np.argsort(predicted_labels)[::-1][0:25].tolist()]\n",
        "    \n",
        "    if i in top25_items:\n",
        "        hits.append(1)\n",
        "    else:\n",
        "        hits.append(0)\n",
        "        \n",
        "print(\"The Hit Ratio 25 is {:.2f}\".format(np.average(hits)))"
      ]
    },
    {
      "cell_type": "markdown",
      "metadata": {
        "papermill": {
          "duration": 0.026475,
          "end_time": "2020-10-18T15:04:51.892783",
          "exception": false,
          "start_time": "2020-10-18T15:04:51.866308",
          "status": "completed"
        },
        "tags": [],
        "id": "PDRQL3x-afoA"
      },
      "source": [
        "To put this into context, what this means is that 90% of the users were recommended the actual item (among a list of 25 items) that they eventually interacted with."
      ]
    }
  ],
  "metadata": {
    "kernelspec": {
      "display_name": "Python 3 (ipykernel)",
      "language": "python",
      "name": "python3"
    },
    "language_info": {
      "codemirror_mode": {
        "name": "ipython",
        "version": 3
      },
      "file_extension": ".py",
      "mimetype": "text/x-python",
      "name": "python",
      "nbconvert_exporter": "python",
      "pygments_lexer": "ipython3",
      "version": "3.10.4"
    },
    "papermill": {
      "duration": 6869.598333,
      "end_time": "2020-10-18T15:04:53.184752",
      "environment_variables": {},
      "exception": null,
      "input_path": "__notebook__.ipynb",
      "output_path": "__notebook__.ipynb",
      "parameters": {},
      "start_time": "2020-10-18T13:10:23.586419",
      "version": "2.1.0"
    },
    "widgets": {
      "application/vnd.jupyter.widget-state+json": {
        "648cb566672c433cb5b5a08471c6e580": {
          "model_module": "@jupyter-widgets/controls",
          "model_name": "HBoxModel",
          "model_module_version": "1.5.0",
          "state": {
            "_dom_classes": [],
            "_model_module": "@jupyter-widgets/controls",
            "_model_module_version": "1.5.0",
            "_model_name": "HBoxModel",
            "_view_count": null,
            "_view_module": "@jupyter-widgets/controls",
            "_view_module_version": "1.5.0",
            "_view_name": "HBoxView",
            "box_style": "",
            "children": [
              "IPY_MODEL_86ae811d3d0a45a9bd2b3f418566ea2e",
              "IPY_MODEL_e0947a8100b24546b3b0f108bfa16f32",
              "IPY_MODEL_08aebea0c1cd46669113ff9fda62e757"
            ],
            "layout": "IPY_MODEL_23e01ca4eba14fd49f77fab7b3008a71"
          }
        },
        "86ae811d3d0a45a9bd2b3f418566ea2e": {
          "model_module": "@jupyter-widgets/controls",
          "model_name": "HTMLModel",
          "model_module_version": "1.5.0",
          "state": {
            "_dom_classes": [],
            "_model_module": "@jupyter-widgets/controls",
            "_model_module_version": "1.5.0",
            "_model_name": "HTMLModel",
            "_view_count": null,
            "_view_module": "@jupyter-widgets/controls",
            "_view_module_version": "1.5.0",
            "_view_name": "HTMLView",
            "description": "",
            "description_tooltip": null,
            "layout": "IPY_MODEL_817e4971808e44efb898f7ed2485bfde",
            "placeholder": "​",
            "style": "IPY_MODEL_3f733bce91ea4a39a1881bcdcb704c7e",
            "value": "100%"
          }
        },
        "e0947a8100b24546b3b0f108bfa16f32": {
          "model_module": "@jupyter-widgets/controls",
          "model_name": "FloatProgressModel",
          "model_module_version": "1.5.0",
          "state": {
            "_dom_classes": [],
            "_model_module": "@jupyter-widgets/controls",
            "_model_module_version": "1.5.0",
            "_model_name": "FloatProgressModel",
            "_view_count": null,
            "_view_module": "@jupyter-widgets/controls",
            "_view_module_version": "1.5.0",
            "_view_name": "ProgressView",
            "bar_style": "success",
            "description": "",
            "description_tooltip": null,
            "layout": "IPY_MODEL_63d348565ae44fe486c3dccb2989d95f",
            "max": 601038,
            "min": 0,
            "orientation": "horizontal",
            "style": "IPY_MODEL_641c803f7d84453d808da05a1af09269",
            "value": 601038
          }
        },
        "08aebea0c1cd46669113ff9fda62e757": {
          "model_module": "@jupyter-widgets/controls",
          "model_name": "HTMLModel",
          "model_module_version": "1.5.0",
          "state": {
            "_dom_classes": [],
            "_model_module": "@jupyter-widgets/controls",
            "_model_module_version": "1.5.0",
            "_model_name": "HTMLModel",
            "_view_count": null,
            "_view_module": "@jupyter-widgets/controls",
            "_view_module_version": "1.5.0",
            "_view_name": "HTMLView",
            "description": "",
            "description_tooltip": null,
            "layout": "IPY_MODEL_b82624918e604b03b41d6af64a28ef37",
            "placeholder": "​",
            "style": "IPY_MODEL_028f213211784df88abb08e4001b4d58",
            "value": " 601038/601038 [00:50&lt;00:00, 12419.35it/s]"
          }
        },
        "23e01ca4eba14fd49f77fab7b3008a71": {
          "model_module": "@jupyter-widgets/base",
          "model_name": "LayoutModel",
          "model_module_version": "1.2.0",
          "state": {
            "_model_module": "@jupyter-widgets/base",
            "_model_module_version": "1.2.0",
            "_model_name": "LayoutModel",
            "_view_count": null,
            "_view_module": "@jupyter-widgets/base",
            "_view_module_version": "1.2.0",
            "_view_name": "LayoutView",
            "align_content": null,
            "align_items": null,
            "align_self": null,
            "border": null,
            "bottom": null,
            "display": null,
            "flex": null,
            "flex_flow": null,
            "grid_area": null,
            "grid_auto_columns": null,
            "grid_auto_flow": null,
            "grid_auto_rows": null,
            "grid_column": null,
            "grid_gap": null,
            "grid_row": null,
            "grid_template_areas": null,
            "grid_template_columns": null,
            "grid_template_rows": null,
            "height": null,
            "justify_content": null,
            "justify_items": null,
            "left": null,
            "margin": null,
            "max_height": null,
            "max_width": null,
            "min_height": null,
            "min_width": null,
            "object_fit": null,
            "object_position": null,
            "order": null,
            "overflow": null,
            "overflow_x": null,
            "overflow_y": null,
            "padding": null,
            "right": null,
            "top": null,
            "visibility": null,
            "width": null
          }
        },
        "817e4971808e44efb898f7ed2485bfde": {
          "model_module": "@jupyter-widgets/base",
          "model_name": "LayoutModel",
          "model_module_version": "1.2.0",
          "state": {
            "_model_module": "@jupyter-widgets/base",
            "_model_module_version": "1.2.0",
            "_model_name": "LayoutModel",
            "_view_count": null,
            "_view_module": "@jupyter-widgets/base",
            "_view_module_version": "1.2.0",
            "_view_name": "LayoutView",
            "align_content": null,
            "align_items": null,
            "align_self": null,
            "border": null,
            "bottom": null,
            "display": null,
            "flex": null,
            "flex_flow": null,
            "grid_area": null,
            "grid_auto_columns": null,
            "grid_auto_flow": null,
            "grid_auto_rows": null,
            "grid_column": null,
            "grid_gap": null,
            "grid_row": null,
            "grid_template_areas": null,
            "grid_template_columns": null,
            "grid_template_rows": null,
            "height": null,
            "justify_content": null,
            "justify_items": null,
            "left": null,
            "margin": null,
            "max_height": null,
            "max_width": null,
            "min_height": null,
            "min_width": null,
            "object_fit": null,
            "object_position": null,
            "order": null,
            "overflow": null,
            "overflow_x": null,
            "overflow_y": null,
            "padding": null,
            "right": null,
            "top": null,
            "visibility": null,
            "width": null
          }
        },
        "3f733bce91ea4a39a1881bcdcb704c7e": {
          "model_module": "@jupyter-widgets/controls",
          "model_name": "DescriptionStyleModel",
          "model_module_version": "1.5.0",
          "state": {
            "_model_module": "@jupyter-widgets/controls",
            "_model_module_version": "1.5.0",
            "_model_name": "DescriptionStyleModel",
            "_view_count": null,
            "_view_module": "@jupyter-widgets/base",
            "_view_module_version": "1.2.0",
            "_view_name": "StyleView",
            "description_width": ""
          }
        },
        "63d348565ae44fe486c3dccb2989d95f": {
          "model_module": "@jupyter-widgets/base",
          "model_name": "LayoutModel",
          "model_module_version": "1.2.0",
          "state": {
            "_model_module": "@jupyter-widgets/base",
            "_model_module_version": "1.2.0",
            "_model_name": "LayoutModel",
            "_view_count": null,
            "_view_module": "@jupyter-widgets/base",
            "_view_module_version": "1.2.0",
            "_view_name": "LayoutView",
            "align_content": null,
            "align_items": null,
            "align_self": null,
            "border": null,
            "bottom": null,
            "display": null,
            "flex": null,
            "flex_flow": null,
            "grid_area": null,
            "grid_auto_columns": null,
            "grid_auto_flow": null,
            "grid_auto_rows": null,
            "grid_column": null,
            "grid_gap": null,
            "grid_row": null,
            "grid_template_areas": null,
            "grid_template_columns": null,
            "grid_template_rows": null,
            "height": null,
            "justify_content": null,
            "justify_items": null,
            "left": null,
            "margin": null,
            "max_height": null,
            "max_width": null,
            "min_height": null,
            "min_width": null,
            "object_fit": null,
            "object_position": null,
            "order": null,
            "overflow": null,
            "overflow_x": null,
            "overflow_y": null,
            "padding": null,
            "right": null,
            "top": null,
            "visibility": null,
            "width": null
          }
        },
        "641c803f7d84453d808da05a1af09269": {
          "model_module": "@jupyter-widgets/controls",
          "model_name": "ProgressStyleModel",
          "model_module_version": "1.5.0",
          "state": {
            "_model_module": "@jupyter-widgets/controls",
            "_model_module_version": "1.5.0",
            "_model_name": "ProgressStyleModel",
            "_view_count": null,
            "_view_module": "@jupyter-widgets/base",
            "_view_module_version": "1.2.0",
            "_view_name": "StyleView",
            "bar_color": null,
            "description_width": ""
          }
        },
        "b82624918e604b03b41d6af64a28ef37": {
          "model_module": "@jupyter-widgets/base",
          "model_name": "LayoutModel",
          "model_module_version": "1.2.0",
          "state": {
            "_model_module": "@jupyter-widgets/base",
            "_model_module_version": "1.2.0",
            "_model_name": "LayoutModel",
            "_view_count": null,
            "_view_module": "@jupyter-widgets/base",
            "_view_module_version": "1.2.0",
            "_view_name": "LayoutView",
            "align_content": null,
            "align_items": null,
            "align_self": null,
            "border": null,
            "bottom": null,
            "display": null,
            "flex": null,
            "flex_flow": null,
            "grid_area": null,
            "grid_auto_columns": null,
            "grid_auto_flow": null,
            "grid_auto_rows": null,
            "grid_column": null,
            "grid_gap": null,
            "grid_row": null,
            "grid_template_areas": null,
            "grid_template_columns": null,
            "grid_template_rows": null,
            "height": null,
            "justify_content": null,
            "justify_items": null,
            "left": null,
            "margin": null,
            "max_height": null,
            "max_width": null,
            "min_height": null,
            "min_width": null,
            "object_fit": null,
            "object_position": null,
            "order": null,
            "overflow": null,
            "overflow_x": null,
            "overflow_y": null,
            "padding": null,
            "right": null,
            "top": null,
            "visibility": null,
            "width": null
          }
        },
        "028f213211784df88abb08e4001b4d58": {
          "model_module": "@jupyter-widgets/controls",
          "model_name": "DescriptionStyleModel",
          "model_module_version": "1.5.0",
          "state": {
            "_model_module": "@jupyter-widgets/controls",
            "_model_module_version": "1.5.0",
            "_model_name": "DescriptionStyleModel",
            "_view_count": null,
            "_view_module": "@jupyter-widgets/base",
            "_view_module_version": "1.2.0",
            "_view_name": "StyleView",
            "description_width": ""
          }
        },
        "b4f7c13d73f945b39ba5256b152580d3": {
          "model_module": "@jupyter-widgets/controls",
          "model_name": "HBoxModel",
          "model_module_version": "1.5.0",
          "state": {
            "_dom_classes": [],
            "_model_module": "@jupyter-widgets/controls",
            "_model_module_version": "1.5.0",
            "_model_name": "HBoxModel",
            "_view_count": null,
            "_view_module": "@jupyter-widgets/controls",
            "_view_module_version": "1.5.0",
            "_view_name": "HBoxView",
            "box_style": "",
            "children": [
              "IPY_MODEL_60245c246efa4ff2b6be97e0e14ef66a",
              "IPY_MODEL_bb4cbeb59c144173b25f56c7271d1b28",
              "IPY_MODEL_88116df28f4940f6a050e268c45bcd0b"
            ],
            "layout": "IPY_MODEL_1823bd41675b40e19cf4461934f36ba9"
          }
        },
        "60245c246efa4ff2b6be97e0e14ef66a": {
          "model_module": "@jupyter-widgets/controls",
          "model_name": "HTMLModel",
          "model_module_version": "1.5.0",
          "state": {
            "_dom_classes": [],
            "_model_module": "@jupyter-widgets/controls",
            "_model_module_version": "1.5.0",
            "_model_name": "HTMLModel",
            "_view_count": null,
            "_view_module": "@jupyter-widgets/controls",
            "_view_module_version": "1.5.0",
            "_view_name": "HTMLView",
            "description": "",
            "description_tooltip": null,
            "layout": "IPY_MODEL_637e54a66110403c892154e76c5b7a64",
            "placeholder": "​",
            "style": "IPY_MODEL_11728fc5522d48e8a3b66337d37e3f50",
            "value": "Epoch 4: 100%"
          }
        },
        "bb4cbeb59c144173b25f56c7271d1b28": {
          "model_module": "@jupyter-widgets/controls",
          "model_name": "FloatProgressModel",
          "model_module_version": "1.5.0",
          "state": {
            "_dom_classes": [],
            "_model_module": "@jupyter-widgets/controls",
            "_model_module_version": "1.5.0",
            "_model_name": "FloatProgressModel",
            "_view_count": null,
            "_view_module": "@jupyter-widgets/controls",
            "_view_module_version": "1.5.0",
            "_view_name": "ProgressView",
            "bar_style": "success",
            "description": "",
            "description_tooltip": null,
            "layout": "IPY_MODEL_9583d77c95c449bfa0e67e2adc2ca56a",
            "max": 5870,
            "min": 0,
            "orientation": "horizontal",
            "style": "IPY_MODEL_f6965cc7cde444f1997a91fed4799a20",
            "value": 5870
          }
        },
        "88116df28f4940f6a050e268c45bcd0b": {
          "model_module": "@jupyter-widgets/controls",
          "model_name": "HTMLModel",
          "model_module_version": "1.5.0",
          "state": {
            "_dom_classes": [],
            "_model_module": "@jupyter-widgets/controls",
            "_model_module_version": "1.5.0",
            "_model_name": "HTMLModel",
            "_view_count": null,
            "_view_module": "@jupyter-widgets/controls",
            "_view_module_version": "1.5.0",
            "_view_name": "HTMLView",
            "description": "",
            "description_tooltip": null,
            "layout": "IPY_MODEL_dc78dee70d0d4474a78b1470859c9b73",
            "placeholder": "​",
            "style": "IPY_MODEL_5f2880d3b73040d1be060e5929a2f8f9",
            "value": " 5870/5870 [01:39&lt;00:00, 59.23it/s, loss=0.249, v_num=2]"
          }
        },
        "1823bd41675b40e19cf4461934f36ba9": {
          "model_module": "@jupyter-widgets/base",
          "model_name": "LayoutModel",
          "model_module_version": "1.2.0",
          "state": {
            "_model_module": "@jupyter-widgets/base",
            "_model_module_version": "1.2.0",
            "_model_name": "LayoutModel",
            "_view_count": null,
            "_view_module": "@jupyter-widgets/base",
            "_view_module_version": "1.2.0",
            "_view_name": "LayoutView",
            "align_content": null,
            "align_items": null,
            "align_self": null,
            "border": null,
            "bottom": null,
            "display": "inline-flex",
            "flex": null,
            "flex_flow": "row wrap",
            "grid_area": null,
            "grid_auto_columns": null,
            "grid_auto_flow": null,
            "grid_auto_rows": null,
            "grid_column": null,
            "grid_gap": null,
            "grid_row": null,
            "grid_template_areas": null,
            "grid_template_columns": null,
            "grid_template_rows": null,
            "height": null,
            "justify_content": null,
            "justify_items": null,
            "left": null,
            "margin": null,
            "max_height": null,
            "max_width": null,
            "min_height": null,
            "min_width": null,
            "object_fit": null,
            "object_position": null,
            "order": null,
            "overflow": null,
            "overflow_x": null,
            "overflow_y": null,
            "padding": null,
            "right": null,
            "top": null,
            "visibility": null,
            "width": "100%"
          }
        },
        "637e54a66110403c892154e76c5b7a64": {
          "model_module": "@jupyter-widgets/base",
          "model_name": "LayoutModel",
          "model_module_version": "1.2.0",
          "state": {
            "_model_module": "@jupyter-widgets/base",
            "_model_module_version": "1.2.0",
            "_model_name": "LayoutModel",
            "_view_count": null,
            "_view_module": "@jupyter-widgets/base",
            "_view_module_version": "1.2.0",
            "_view_name": "LayoutView",
            "align_content": null,
            "align_items": null,
            "align_self": null,
            "border": null,
            "bottom": null,
            "display": null,
            "flex": null,
            "flex_flow": null,
            "grid_area": null,
            "grid_auto_columns": null,
            "grid_auto_flow": null,
            "grid_auto_rows": null,
            "grid_column": null,
            "grid_gap": null,
            "grid_row": null,
            "grid_template_areas": null,
            "grid_template_columns": null,
            "grid_template_rows": null,
            "height": null,
            "justify_content": null,
            "justify_items": null,
            "left": null,
            "margin": null,
            "max_height": null,
            "max_width": null,
            "min_height": null,
            "min_width": null,
            "object_fit": null,
            "object_position": null,
            "order": null,
            "overflow": null,
            "overflow_x": null,
            "overflow_y": null,
            "padding": null,
            "right": null,
            "top": null,
            "visibility": null,
            "width": null
          }
        },
        "11728fc5522d48e8a3b66337d37e3f50": {
          "model_module": "@jupyter-widgets/controls",
          "model_name": "DescriptionStyleModel",
          "model_module_version": "1.5.0",
          "state": {
            "_model_module": "@jupyter-widgets/controls",
            "_model_module_version": "1.5.0",
            "_model_name": "DescriptionStyleModel",
            "_view_count": null,
            "_view_module": "@jupyter-widgets/base",
            "_view_module_version": "1.2.0",
            "_view_name": "StyleView",
            "description_width": ""
          }
        },
        "9583d77c95c449bfa0e67e2adc2ca56a": {
          "model_module": "@jupyter-widgets/base",
          "model_name": "LayoutModel",
          "model_module_version": "1.2.0",
          "state": {
            "_model_module": "@jupyter-widgets/base",
            "_model_module_version": "1.2.0",
            "_model_name": "LayoutModel",
            "_view_count": null,
            "_view_module": "@jupyter-widgets/base",
            "_view_module_version": "1.2.0",
            "_view_name": "LayoutView",
            "align_content": null,
            "align_items": null,
            "align_self": null,
            "border": null,
            "bottom": null,
            "display": null,
            "flex": "2",
            "flex_flow": null,
            "grid_area": null,
            "grid_auto_columns": null,
            "grid_auto_flow": null,
            "grid_auto_rows": null,
            "grid_column": null,
            "grid_gap": null,
            "grid_row": null,
            "grid_template_areas": null,
            "grid_template_columns": null,
            "grid_template_rows": null,
            "height": null,
            "justify_content": null,
            "justify_items": null,
            "left": null,
            "margin": null,
            "max_height": null,
            "max_width": null,
            "min_height": null,
            "min_width": null,
            "object_fit": null,
            "object_position": null,
            "order": null,
            "overflow": null,
            "overflow_x": null,
            "overflow_y": null,
            "padding": null,
            "right": null,
            "top": null,
            "visibility": null,
            "width": null
          }
        },
        "f6965cc7cde444f1997a91fed4799a20": {
          "model_module": "@jupyter-widgets/controls",
          "model_name": "ProgressStyleModel",
          "model_module_version": "1.5.0",
          "state": {
            "_model_module": "@jupyter-widgets/controls",
            "_model_module_version": "1.5.0",
            "_model_name": "ProgressStyleModel",
            "_view_count": null,
            "_view_module": "@jupyter-widgets/base",
            "_view_module_version": "1.2.0",
            "_view_name": "StyleView",
            "bar_color": null,
            "description_width": ""
          }
        },
        "dc78dee70d0d4474a78b1470859c9b73": {
          "model_module": "@jupyter-widgets/base",
          "model_name": "LayoutModel",
          "model_module_version": "1.2.0",
          "state": {
            "_model_module": "@jupyter-widgets/base",
            "_model_module_version": "1.2.0",
            "_model_name": "LayoutModel",
            "_view_count": null,
            "_view_module": "@jupyter-widgets/base",
            "_view_module_version": "1.2.0",
            "_view_name": "LayoutView",
            "align_content": null,
            "align_items": null,
            "align_self": null,
            "border": null,
            "bottom": null,
            "display": null,
            "flex": null,
            "flex_flow": null,
            "grid_area": null,
            "grid_auto_columns": null,
            "grid_auto_flow": null,
            "grid_auto_rows": null,
            "grid_column": null,
            "grid_gap": null,
            "grid_row": null,
            "grid_template_areas": null,
            "grid_template_columns": null,
            "grid_template_rows": null,
            "height": null,
            "justify_content": null,
            "justify_items": null,
            "left": null,
            "margin": null,
            "max_height": null,
            "max_width": null,
            "min_height": null,
            "min_width": null,
            "object_fit": null,
            "object_position": null,
            "order": null,
            "overflow": null,
            "overflow_x": null,
            "overflow_y": null,
            "padding": null,
            "right": null,
            "top": null,
            "visibility": null,
            "width": null
          }
        },
        "5f2880d3b73040d1be060e5929a2f8f9": {
          "model_module": "@jupyter-widgets/controls",
          "model_name": "DescriptionStyleModel",
          "model_module_version": "1.5.0",
          "state": {
            "_model_module": "@jupyter-widgets/controls",
            "_model_module_version": "1.5.0",
            "_model_name": "DescriptionStyleModel",
            "_view_count": null,
            "_view_module": "@jupyter-widgets/base",
            "_view_module_version": "1.2.0",
            "_view_name": "StyleView",
            "description_width": ""
          }
        },
        "3bb70ec983994731a88be4c4523f116f": {
          "model_module": "@jupyter-widgets/controls",
          "model_name": "HBoxModel",
          "model_module_version": "1.5.0",
          "state": {
            "_dom_classes": [],
            "_model_module": "@jupyter-widgets/controls",
            "_model_module_version": "1.5.0",
            "_model_name": "HBoxModel",
            "_view_count": null,
            "_view_module": "@jupyter-widgets/controls",
            "_view_module_version": "1.5.0",
            "_view_name": "HBoxView",
            "box_style": "",
            "children": [
              "IPY_MODEL_4c004bbbba28422c9847a08d80fca30d",
              "IPY_MODEL_34bae3cbd3494009937bb2b5c2908195",
              "IPY_MODEL_1f481cb0128340dfb05e61452bb06cd8"
            ],
            "layout": "IPY_MODEL_61d642139020437e8dcd114a816f3ea9"
          }
        },
        "4c004bbbba28422c9847a08d80fca30d": {
          "model_module": "@jupyter-widgets/controls",
          "model_name": "HTMLModel",
          "model_module_version": "1.5.0",
          "state": {
            "_dom_classes": [],
            "_model_module": "@jupyter-widgets/controls",
            "_model_module_version": "1.5.0",
            "_model_name": "HTMLModel",
            "_view_count": null,
            "_view_module": "@jupyter-widgets/controls",
            "_view_module_version": "1.5.0",
            "_view_name": "HTMLView",
            "description": "",
            "description_tooltip": null,
            "layout": "IPY_MODEL_9482894ef34b44c185e038102d802b68",
            "placeholder": "​",
            "style": "IPY_MODEL_c9a1bb5b2c9444ef931e205643aef95d",
            "value": "100%"
          }
        },
        "34bae3cbd3494009937bb2b5c2908195": {
          "model_module": "@jupyter-widgets/controls",
          "model_name": "FloatProgressModel",
          "model_module_version": "1.5.0",
          "state": {
            "_dom_classes": [],
            "_model_module": "@jupyter-widgets/controls",
            "_model_module_version": "1.5.0",
            "_model_name": "FloatProgressModel",
            "_view_count": null,
            "_view_module": "@jupyter-widgets/controls",
            "_view_module_version": "1.5.0",
            "_view_name": "ProgressView",
            "bar_style": "success",
            "description": "",
            "description_tooltip": null,
            "layout": "IPY_MODEL_6a13c3dd2f7145bc9209e49efee059f9",
            "max": 4249,
            "min": 0,
            "orientation": "horizontal",
            "style": "IPY_MODEL_1179d8113efc413cb8c09c8fdc3ea0b5",
            "value": 4249
          }
        },
        "1f481cb0128340dfb05e61452bb06cd8": {
          "model_module": "@jupyter-widgets/controls",
          "model_name": "HTMLModel",
          "model_module_version": "1.5.0",
          "state": {
            "_dom_classes": [],
            "_model_module": "@jupyter-widgets/controls",
            "_model_module_version": "1.5.0",
            "_model_name": "HTMLModel",
            "_view_count": null,
            "_view_module": "@jupyter-widgets/controls",
            "_view_module_version": "1.5.0",
            "_view_name": "HTMLView",
            "description": "",
            "description_tooltip": null,
            "layout": "IPY_MODEL_7fae31c08ee44f6c9e2cbde3ef4a40aa",
            "placeholder": "​",
            "style": "IPY_MODEL_e8b72bda69344847879e91d6a07445de",
            "value": " 4249/4249 [00:17&lt;00:00, 264.56it/s]"
          }
        },
        "61d642139020437e8dcd114a816f3ea9": {
          "model_module": "@jupyter-widgets/base",
          "model_name": "LayoutModel",
          "model_module_version": "1.2.0",
          "state": {
            "_model_module": "@jupyter-widgets/base",
            "_model_module_version": "1.2.0",
            "_model_name": "LayoutModel",
            "_view_count": null,
            "_view_module": "@jupyter-widgets/base",
            "_view_module_version": "1.2.0",
            "_view_name": "LayoutView",
            "align_content": null,
            "align_items": null,
            "align_self": null,
            "border": null,
            "bottom": null,
            "display": null,
            "flex": null,
            "flex_flow": null,
            "grid_area": null,
            "grid_auto_columns": null,
            "grid_auto_flow": null,
            "grid_auto_rows": null,
            "grid_column": null,
            "grid_gap": null,
            "grid_row": null,
            "grid_template_areas": null,
            "grid_template_columns": null,
            "grid_template_rows": null,
            "height": null,
            "justify_content": null,
            "justify_items": null,
            "left": null,
            "margin": null,
            "max_height": null,
            "max_width": null,
            "min_height": null,
            "min_width": null,
            "object_fit": null,
            "object_position": null,
            "order": null,
            "overflow": null,
            "overflow_x": null,
            "overflow_y": null,
            "padding": null,
            "right": null,
            "top": null,
            "visibility": null,
            "width": null
          }
        },
        "9482894ef34b44c185e038102d802b68": {
          "model_module": "@jupyter-widgets/base",
          "model_name": "LayoutModel",
          "model_module_version": "1.2.0",
          "state": {
            "_model_module": "@jupyter-widgets/base",
            "_model_module_version": "1.2.0",
            "_model_name": "LayoutModel",
            "_view_count": null,
            "_view_module": "@jupyter-widgets/base",
            "_view_module_version": "1.2.0",
            "_view_name": "LayoutView",
            "align_content": null,
            "align_items": null,
            "align_self": null,
            "border": null,
            "bottom": null,
            "display": null,
            "flex": null,
            "flex_flow": null,
            "grid_area": null,
            "grid_auto_columns": null,
            "grid_auto_flow": null,
            "grid_auto_rows": null,
            "grid_column": null,
            "grid_gap": null,
            "grid_row": null,
            "grid_template_areas": null,
            "grid_template_columns": null,
            "grid_template_rows": null,
            "height": null,
            "justify_content": null,
            "justify_items": null,
            "left": null,
            "margin": null,
            "max_height": null,
            "max_width": null,
            "min_height": null,
            "min_width": null,
            "object_fit": null,
            "object_position": null,
            "order": null,
            "overflow": null,
            "overflow_x": null,
            "overflow_y": null,
            "padding": null,
            "right": null,
            "top": null,
            "visibility": null,
            "width": null
          }
        },
        "c9a1bb5b2c9444ef931e205643aef95d": {
          "model_module": "@jupyter-widgets/controls",
          "model_name": "DescriptionStyleModel",
          "model_module_version": "1.5.0",
          "state": {
            "_model_module": "@jupyter-widgets/controls",
            "_model_module_version": "1.5.0",
            "_model_name": "DescriptionStyleModel",
            "_view_count": null,
            "_view_module": "@jupyter-widgets/base",
            "_view_module_version": "1.2.0",
            "_view_name": "StyleView",
            "description_width": ""
          }
        },
        "6a13c3dd2f7145bc9209e49efee059f9": {
          "model_module": "@jupyter-widgets/base",
          "model_name": "LayoutModel",
          "model_module_version": "1.2.0",
          "state": {
            "_model_module": "@jupyter-widgets/base",
            "_model_module_version": "1.2.0",
            "_model_name": "LayoutModel",
            "_view_count": null,
            "_view_module": "@jupyter-widgets/base",
            "_view_module_version": "1.2.0",
            "_view_name": "LayoutView",
            "align_content": null,
            "align_items": null,
            "align_self": null,
            "border": null,
            "bottom": null,
            "display": null,
            "flex": null,
            "flex_flow": null,
            "grid_area": null,
            "grid_auto_columns": null,
            "grid_auto_flow": null,
            "grid_auto_rows": null,
            "grid_column": null,
            "grid_gap": null,
            "grid_row": null,
            "grid_template_areas": null,
            "grid_template_columns": null,
            "grid_template_rows": null,
            "height": null,
            "justify_content": null,
            "justify_items": null,
            "left": null,
            "margin": null,
            "max_height": null,
            "max_width": null,
            "min_height": null,
            "min_width": null,
            "object_fit": null,
            "object_position": null,
            "order": null,
            "overflow": null,
            "overflow_x": null,
            "overflow_y": null,
            "padding": null,
            "right": null,
            "top": null,
            "visibility": null,
            "width": null
          }
        },
        "1179d8113efc413cb8c09c8fdc3ea0b5": {
          "model_module": "@jupyter-widgets/controls",
          "model_name": "ProgressStyleModel",
          "model_module_version": "1.5.0",
          "state": {
            "_model_module": "@jupyter-widgets/controls",
            "_model_module_version": "1.5.0",
            "_model_name": "ProgressStyleModel",
            "_view_count": null,
            "_view_module": "@jupyter-widgets/base",
            "_view_module_version": "1.2.0",
            "_view_name": "StyleView",
            "bar_color": null,
            "description_width": ""
          }
        },
        "7fae31c08ee44f6c9e2cbde3ef4a40aa": {
          "model_module": "@jupyter-widgets/base",
          "model_name": "LayoutModel",
          "model_module_version": "1.2.0",
          "state": {
            "_model_module": "@jupyter-widgets/base",
            "_model_module_version": "1.2.0",
            "_model_name": "LayoutModel",
            "_view_count": null,
            "_view_module": "@jupyter-widgets/base",
            "_view_module_version": "1.2.0",
            "_view_name": "LayoutView",
            "align_content": null,
            "align_items": null,
            "align_self": null,
            "border": null,
            "bottom": null,
            "display": null,
            "flex": null,
            "flex_flow": null,
            "grid_area": null,
            "grid_auto_columns": null,
            "grid_auto_flow": null,
            "grid_auto_rows": null,
            "grid_column": null,
            "grid_gap": null,
            "grid_row": null,
            "grid_template_areas": null,
            "grid_template_columns": null,
            "grid_template_rows": null,
            "height": null,
            "justify_content": null,
            "justify_items": null,
            "left": null,
            "margin": null,
            "max_height": null,
            "max_width": null,
            "min_height": null,
            "min_width": null,
            "object_fit": null,
            "object_position": null,
            "order": null,
            "overflow": null,
            "overflow_x": null,
            "overflow_y": null,
            "padding": null,
            "right": null,
            "top": null,
            "visibility": null,
            "width": null
          }
        },
        "e8b72bda69344847879e91d6a07445de": {
          "model_module": "@jupyter-widgets/controls",
          "model_name": "DescriptionStyleModel",
          "model_module_version": "1.5.0",
          "state": {
            "_model_module": "@jupyter-widgets/controls",
            "_model_module_version": "1.5.0",
            "_model_name": "DescriptionStyleModel",
            "_view_count": null,
            "_view_module": "@jupyter-widgets/base",
            "_view_module_version": "1.2.0",
            "_view_name": "StyleView",
            "description_width": ""
          }
        }
      }
    },
    "colab": {
      "provenance": []
    },
    "accelerator": "GPU",
    "gpuClass": "standard"
  },
  "nbformat": 4,
  "nbformat_minor": 0
}